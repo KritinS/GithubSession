{
 "cells": [
  {
   "cell_type": "code",
   "execution_count": null,
   "metadata": {},
   "outputs": [],
   "source": [
    "print(\"2000 cats\")\n",
    "\n",
    "print(\"are white\")\n",
    "\n",
    "print(\"and very cute\")\n",
    "\n",
    "\n",
    "print(\"but awful\")\n",
    "\n",
    "\n",
    "\n",
    "\n",
    "print(\"5555555\")\n",
    "\n"
   ]
  }
 ],
 "metadata": {
  "language_info": {
   "name": "python"
  },
  "orig_nbformat": 4
 },
 "nbformat": 4,
 "nbformat_minor": 2
}
