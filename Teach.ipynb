{
 "cells": [
  {
   "cell_type": "code",
   "execution_count": null,
   "metadata": {},
   "outputs": [],
   "source": [
    "print(\"the dog\")\n",
    "\n",
    "print(\"is white\")\n",
    "\n",
    "print(\"and very cute\")\n",
    "\n",
    "\n",
    "print(\"but awful\")\n",
    "\n",
    "\n",
    "\n",
    "\n",
    "print(\"5555555\")\n",
    "\n"
   ]
  }
 ],
 "metadata": {
  "language_info": {
   "name": "python"
  },
  "orig_nbformat": 4
 },
 "nbformat": 4,
 "nbformat_minor": 2
}
